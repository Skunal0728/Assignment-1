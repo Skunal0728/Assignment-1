{
 "cells": [
  {
   "cell_type": "markdown",
   "id": "bc9c53e0",
   "metadata": {},
   "source": [
    "# 1. In the below elements which of them are values or an expression? eg:- values can be integer or string and expressions will be mathematical operators.\n",
    "\n",
    "*       = mathematical operator\n",
    "'hello' = string\n",
    "-87.8   = integer\n",
    "-       = mathematical operator\n",
    "/       = mathematical operator\n",
    "+       = mathematical operator\t\n",
    "6       = integer\n"
   ]
  },
  {
   "cell_type": "markdown",
   "id": "bde698a7",
   "metadata": {},
   "source": [
    "# 2. What is the difference between string and variable?\n",
    "\n",
    "Variable -  The Variable is a way of attaching a name to a piece of data. It acts as a container that can hold different types of values, such as numbers, strings, lists, or objects. Variables in Python are created using the assignment operator (=), where the name of the variable is on the left side, and the value or expression to be assigned to the variable is on the right side."
   ]
  },
  {
   "cell_type": "markdown",
   "id": "fe717b8b",
   "metadata": {},
   "source": [
    "# 3.Describe three different data types.\n",
    "\n",
    "There are numerous data types available to store different kinds of information. Three commonly used data types are as follows:\n",
    "Integer (int) = Integers are whole numbers, both positive and negative, without any fractional parts. They can be used to represent quantities, indices, or counts. For example, 5, -10, 0.\n",
    "\n",
    "String (str) = Strings are sequences of characters enclosed in single quotes (' ') or double quotes (\" \"). They are used to represent text or a collection of characters. For example: \"Hello, world!\", 'Python is awesome'.\n",
    "\n",
    "List (list) = Lists are ordered collections of items enclosed in square brackets []. They can store multiple values of different types. Lists are mutable, meaning their elements can be modified. For example [1,2, 3], ['apple', 'banana', 'orange'].\n",
    "\n"
   ]
  },
  {
   "cell_type": "markdown",
   "id": "6ecab382",
   "metadata": {},
   "source": [
    "# What is an expression made up of? What do all expressions do?\n",
    "\n",
    "An expression is made up of one or more values, operators, and function calls that are combined to produce a result. It can include variables, literals, and other elements that Python can evaluate. Expressions are used to perform computations, manipulate data, and generate new values.\n",
    "\n",
    "All expressions in Python have a purpose of producing a value. When an expression is evaluated, it returns a result based on the operations performed within it. The result can be assigned to a variable, used in further computations, or displayed as output.\n",
    "\n",
    "Expressions can be simple or complex, ranging from basic arithmetic calculations to more intricate operations involving functions, conditionals, and loops. They allow you to perform mathematical computations, manipulate strings, make comparisons, and more. Expressions are fundamental building blocks in programming, enabling you to perform dynamic and flexible operations on data."
   ]
  },
  {
   "cell_type": "markdown",
   "id": "770e52a8",
   "metadata": {},
   "source": [
    "# 5. This assignment statements, like spam = 10. What is the difference between an expression and a statement?\n",
    "\n",
    "An expression is a piece of code that produces a value when it is executed. It can consist of literals, variables, operators, and function calls. Examples of expressions include 2 + 3, 'Hello' + 'World', and len('Hello').\n",
    "\n",
    "On the other hand, a statement is a line of code that performs an action or carries out a specific task. It doesn't necessarily produce a value. Examples of statements include assignments (spam = 10), function definitions, loops, and conditional statements.\n",
    "\n",
    "In the case of the assignment statement spam = 10, it is a statement that assigns the value 10 to the variable spam. The expression on the right side of the assignment (10) produces the value that is then assigned to the variable."
   ]
  },
  {
   "cell_type": "markdown",
   "id": "370a576a",
   "metadata": {},
   "source": [
    "# 6. After running the following code, what does the variable bacon contain?\n",
    "bacon = 22\n",
    "bacon + 1\n",
    "    Ans:- After running code, variable bacon contain value of 23"
   ]
  },
  {
   "cell_type": "code",
   "execution_count": 1,
   "id": "c99801ce",
   "metadata": {},
   "outputs": [
    {
     "data": {
      "text/plain": [
       "23"
      ]
     },
     "execution_count": 1,
     "metadata": {},
     "output_type": "execute_result"
    }
   ],
   "source": [
    "bacon = 22\n",
    "bacon + 1"
   ]
  },
  {
   "cell_type": "markdown",
   "id": "0c2bbd9c",
   "metadata": {},
   "source": [
    "# 7. What should the values of the following two terms be?\n",
    "\n",
    "'spam' + 'spamspam'\n",
    "'spam' * 3\n",
    "Ans: - Output for both terms will be 'spamspamspam'"
   ]
  },
  {
   "cell_type": "code",
   "execution_count": 3,
   "id": "cc82f942",
   "metadata": {},
   "outputs": [
    {
     "data": {
      "text/plain": [
       "'spamspamspam'"
      ]
     },
     "execution_count": 3,
     "metadata": {},
     "output_type": "execute_result"
    }
   ],
   "source": [
    "'spam' + 'spamspam'"
   ]
  },
  {
   "cell_type": "code",
   "execution_count": 4,
   "id": "73f39654",
   "metadata": {},
   "outputs": [
    {
     "data": {
      "text/plain": [
       "'spamspamspam'"
      ]
     },
     "execution_count": 4,
     "metadata": {},
     "output_type": "execute_result"
    }
   ],
   "source": [
    "'spam' * 3"
   ]
  },
  {
   "cell_type": "markdown",
   "id": "eb3bbbd7",
   "metadata": {},
   "source": [
    "# 8. Why is eggs a valid variable name while 100 is invalid?\n",
    "\n",
    "Variable names cannot start with a digit: Python variable names must begin with a letter (a-z, A-Z) or an underscore (_). They cannot start with a digit (0-9). Since eggs starts with a letter, it is a valid variable name whereas 100 is invalid because it starts with a digit, which is not allowed for variable names.\n"
   ]
  },
  {
   "cell_type": "markdown",
   "id": "f793c2d3",
   "metadata": {},
   "source": [
    "# 9. What three functions can be used to get the integer, floating-point number, or string version of a value?\n",
    "\n",
    "following three functions to convert a value to an integer, floating-point number, or string:\n",
    "\n",
    "int(): This function is used to convert a value to an integer. It takes a numeric or string argument and returns the integer representation of the value. For example:\n",
    "int(10.30) will return10.\n",
    "int(\"40\") will return 40.\n",
    "\n",
    "float(): This function is used to convert a value to a floating-point number. It takes a numeric or string argument and returns the floating-point representation of the value. For example:\n",
    "float(15) will return 15.0.\n",
    "float(\"14.2\") will return 14.2.\n",
    "\n",
    "str(): This function is used to convert a value to a string. It takes any value as an argument and returns its string representation. For example:\n",
    "str(15) will return \"15\".\n",
    "str(3.14) will return \"3.14\".\n",
    "\n",
    "These functions allow you to convert values between different data types, providing flexibility in handling and manipulating data in your Python programs."
   ]
  },
  {
   "cell_type": "code",
   "execution_count": 12,
   "id": "797963a4",
   "metadata": {},
   "outputs": [
    {
     "name": "stdout",
     "output_type": "stream",
     "text": [
      "10 , 40 , 15.0 , 14.2 , 15 , 3.14\n"
     ]
    }
   ],
   "source": [
    "a = int(10.30)\n",
    "b = int(\"40\")\n",
    "c = float(15)\n",
    "d = float(\"14.2\")\n",
    "e = str(15)\n",
    "f = str(3.14)\n",
    "print(a, \",\", b ,\",\", c,\",\", d,\",\", e,\",\", f)"
   ]
  },
  {
   "cell_type": "markdown",
   "id": "db1f7667",
   "metadata": {},
   "source": [
    "# 10. Why does this expression cause an error? How can you fix it?\n",
    "'I have eaten ' + 99 + ' burritos.'\n",
    "\n",
    "The expression 'I have eaten ' + 99 + ' burritos.' causes an error because expression try to concatenate strings with integer.\n",
    "To fix this error, need to convert the integer 99 to a string before concatenating it with the other strings."
   ]
  },
  {
   "cell_type": "code",
   "execution_count": 13,
   "id": "da4d5bc5",
   "metadata": {},
   "outputs": [
    {
     "ename": "TypeError",
     "evalue": "can only concatenate str (not \"int\") to str",
     "output_type": "error",
     "traceback": [
      "\u001b[1;31m---------------------------------------------------------------------------\u001b[0m",
      "\u001b[1;31mTypeError\u001b[0m                                 Traceback (most recent call last)",
      "Cell \u001b[1;32mIn[13], line 1\u001b[0m\n\u001b[1;32m----> 1\u001b[0m \u001b[38;5;124;43m'\u001b[39;49m\u001b[38;5;124;43mI have eaten \u001b[39;49m\u001b[38;5;124;43m'\u001b[39;49m\u001b[43m \u001b[49m\u001b[38;5;241;43m+\u001b[39;49m\u001b[43m \u001b[49m\u001b[38;5;241;43m99\u001b[39;49m \u001b[38;5;241m+\u001b[39m \u001b[38;5;124m'\u001b[39m\u001b[38;5;124m burritos.\u001b[39m\u001b[38;5;124m'\u001b[39m\n",
      "\u001b[1;31mTypeError\u001b[0m: can only concatenate str (not \"int\") to str"
     ]
    }
   ],
   "source": [
    "'I have eaten ' + 99 + ' burritos.'"
   ]
  },
  {
   "cell_type": "code",
   "execution_count": 16,
   "id": "06e3c77b",
   "metadata": {},
   "outputs": [
    {
     "data": {
      "text/plain": [
       "'I have eaten 99 burritos.'"
      ]
     },
     "execution_count": 16,
     "metadata": {},
     "output_type": "execute_result"
    }
   ],
   "source": [
    "'I have eaten ' + str(99) + ' burritos.'"
   ]
  }
 ],
 "metadata": {
  "kernelspec": {
   "display_name": "Python 3 (ipykernel)",
   "language": "python",
   "name": "python3"
  },
  "language_info": {
   "codemirror_mode": {
    "name": "ipython",
    "version": 3
   },
   "file_extension": ".py",
   "mimetype": "text/x-python",
   "name": "python",
   "nbconvert_exporter": "python",
   "pygments_lexer": "ipython3",
   "version": "3.10.9"
  }
 },
 "nbformat": 4,
 "nbformat_minor": 5
}
